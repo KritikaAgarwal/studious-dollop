{
 "cells": [
  {
   "cell_type": "code",
   "execution_count": null,
   "metadata": {},
   "outputs": [],
   "source": [
    "!pip install octis"
   ]
  },
  {
   "cell_type": "code",
   "execution_count": null,
   "metadata": {},
   "outputs": [],
   "source": [
    "from octis.dataset.dataset import Dataset\n",
    "dataset = Dataset()\n",
    "dataset.fetch_dataset(\"BBC_News\")"
   ]
  },
  {
   "cell_type": "code",
   "execution_count": 24,
   "metadata": {},
   "outputs": [],
   "source": [
    "from octis.models.ProdLDA import ProdLDA\n",
    "from octis.models.NeuralLDA import NeuralLDA\n",
    "from octis.evaluation_metrics.diversity_metrics import TopicDiversity\n",
    "from octis.evaluation_metrics.coherence_metrics import Coherence\n",
    "\n",
    "\n",
    "topic_model = ProdLDA()\n",
    "topic_model_2 = NeuralLDA()\n"
   ]
  },
  {
   "cell_type": "code",
   "execution_count": 25,
   "metadata": {},
   "outputs": [],
   "source": [
    "model = ProdLDA(num_topics=30)"
   ]
  },
  {
   "cell_type": "code",
   "execution_count": 26,
   "metadata": {},
   "outputs": [
    {
     "name": "stdout",
     "output_type": "stream",
     "text": [
      "Epoch: [1/100]\tSamples: [1557/155700]\tTrain Loss: 1030.7936248093288\tTime: 0:00:00.109810\n",
      "Epoch: [1/100]\tSamples: [334/33400]\tValidation Loss: 981.9987895303144\tTime: 0:00:00.011980\n",
      "Epoch: [2/100]\tSamples: [3114/155700]\tTrain Loss: 1024.352821933205\tTime: 0:00:00.106332\n",
      "Epoch: [2/100]\tSamples: [334/33400]\tValidation Loss: 984.1006473381362\tTime: 0:00:00.011155\n",
      "Epoch: [3/100]\tSamples: [4671/155700]\tTrain Loss: 1006.2594545299454\tTime: 0:00:00.110709\n",
      "Epoch: [3/100]\tSamples: [334/33400]\tValidation Loss: 982.3562084814746\tTime: 0:00:00.027513\n",
      "Epoch: [4/100]\tSamples: [6228/155700]\tTrain Loss: 987.8346768123796\tTime: 0:00:00.128644\n",
      "Epoch: [4/100]\tSamples: [334/33400]\tValidation Loss: 981.2040547810628\tTime: 0:00:00.012282\n",
      "Epoch: [5/100]\tSamples: [7785/155700]\tTrain Loss: 973.410847432964\tTime: 0:00:00.140098\n",
      "Epoch: [5/100]\tSamples: [334/33400]\tValidation Loss: 977.793360544536\tTime: 0:00:00.014649\n",
      "Epoch: [6/100]\tSamples: [9342/155700]\tTrain Loss: 960.7939647559409\tTime: 0:00:00.128394\n",
      "Epoch: [6/100]\tSamples: [334/33400]\tValidation Loss: 966.5399688903443\tTime: 0:00:00.014554\n",
      "Epoch: [7/100]\tSamples: [10899/155700]\tTrain Loss: 951.7263492493578\tTime: 0:00:00.178062\n",
      "Epoch: [7/100]\tSamples: [334/33400]\tValidation Loss: 959.1306196201348\tTime: 0:00:00.016926\n",
      "Epoch: [8/100]\tSamples: [12456/155700]\tTrain Loss: 943.6543319986351\tTime: 0:00:00.162720\n",
      "Epoch: [8/100]\tSamples: [334/33400]\tValidation Loss: 950.9038612228668\tTime: 0:00:00.014313\n",
      "Epoch: [9/100]\tSamples: [14013/155700]\tTrain Loss: 938.200113148282\tTime: 0:00:00.151294\n",
      "Epoch: [9/100]\tSamples: [334/33400]\tValidation Loss: 947.884619433009\tTime: 0:00:00.024296\n",
      "Epoch: [10/100]\tSamples: [15570/155700]\tTrain Loss: 933.5460056900289\tTime: 0:00:00.153678\n",
      "Epoch: [10/100]\tSamples: [334/33400]\tValidation Loss: 942.4463153770583\tTime: 0:00:00.014391\n",
      "Epoch: [11/100]\tSamples: [17127/155700]\tTrain Loss: 927.7732869701349\tTime: 0:00:00.150144\n",
      "Epoch: [11/100]\tSamples: [334/33400]\tValidation Loss: 944.2981468703218\tTime: 0:00:00.016014\n",
      "Epoch: [12/100]\tSamples: [18684/155700]\tTrain Loss: 924.7927429552024\tTime: 0:00:00.156256\n",
      "Epoch: [12/100]\tSamples: [334/33400]\tValidation Loss: 939.3758274466692\tTime: 0:00:00.017160\n",
      "Epoch: [13/100]\tSamples: [20241/155700]\tTrain Loss: 922.2016535705684\tTime: 0:00:00.162704\n",
      "Epoch: [13/100]\tSamples: [334/33400]\tValidation Loss: 935.5561786583083\tTime: 0:00:00.015861\n",
      "Epoch: [14/100]\tSamples: [21798/155700]\tTrain Loss: 919.1475681900289\tTime: 0:00:00.140740\n",
      "Epoch: [14/100]\tSamples: [334/33400]\tValidation Loss: 934.3864556044161\tTime: 0:00:00.013029\n",
      "Epoch: [15/100]\tSamples: [23355/155700]\tTrain Loss: 918.0170776131985\tTime: 0:00:00.129406\n",
      "Epoch: [15/100]\tSamples: [334/33400]\tValidation Loss: 930.1078867655315\tTime: 0:00:00.013925\n",
      "Epoch: [16/100]\tSamples: [24912/155700]\tTrain Loss: 914.5242842304913\tTime: 0:00:00.120138\n",
      "Epoch: [16/100]\tSamples: [334/33400]\tValidation Loss: 925.6230117889221\tTime: 0:00:00.011338\n",
      "Epoch: [17/100]\tSamples: [26469/155700]\tTrain Loss: 911.1093875441554\tTime: 0:00:00.129689\n",
      "Epoch: [17/100]\tSamples: [334/33400]\tValidation Loss: 925.4820125374251\tTime: 0:00:00.013528\n",
      "Epoch: [18/100]\tSamples: [28026/155700]\tTrain Loss: 911.1178109445248\tTime: 0:00:00.126319\n",
      "Epoch: [18/100]\tSamples: [334/33400]\tValidation Loss: 926.3001526244386\tTime: 0:00:00.012543\n",
      "Epoch: [19/100]\tSamples: [29583/155700]\tTrain Loss: 908.3777434067919\tTime: 0:00:00.129119\n",
      "Epoch: [19/100]\tSamples: [334/33400]\tValidation Loss: 925.3666787518713\tTime: 0:00:00.013158\n",
      "Epoch: [20/100]\tSamples: [31140/155700]\tTrain Loss: 905.6740351035645\tTime: 0:00:00.120995\n",
      "Epoch: [20/100]\tSamples: [334/33400]\tValidation Loss: 923.8816692786303\tTime: 0:00:00.012486\n",
      "Epoch: [21/100]\tSamples: [32697/155700]\tTrain Loss: 903.8284172788215\tTime: 0:00:00.134728\n",
      "Epoch: [21/100]\tSamples: [334/33400]\tValidation Loss: 923.0254023203593\tTime: 0:00:00.012429\n",
      "Epoch: [22/100]\tSamples: [34254/155700]\tTrain Loss: 902.9874520813263\tTime: 0:00:00.122999\n",
      "Epoch: [22/100]\tSamples: [334/33400]\tValidation Loss: 921.3875754350673\tTime: 0:00:00.012413\n",
      "Epoch: [23/100]\tSamples: [35811/155700]\tTrain Loss: 903.8048969873956\tTime: 0:00:00.129105\n",
      "Epoch: [23/100]\tSamples: [334/33400]\tValidation Loss: 920.8382590288173\tTime: 0:00:00.012310\n",
      "Epoch: [24/100]\tSamples: [37368/155700]\tTrain Loss: 902.846567417309\tTime: 0:00:00.128961\n",
      "Epoch: [24/100]\tSamples: [334/33400]\tValidation Loss: 918.1573113538548\tTime: 0:00:00.013053\n",
      "Epoch: [25/100]\tSamples: [38925/155700]\tTrain Loss: 901.2321622109827\tTime: 0:00:00.122543\n",
      "Epoch: [25/100]\tSamples: [334/33400]\tValidation Loss: 920.0454481661677\tTime: 0:00:00.013609\n",
      "Epoch: [26/100]\tSamples: [40482/155700]\tTrain Loss: 900.1534338371066\tTime: 0:00:00.124320\n",
      "Epoch: [26/100]\tSamples: [334/33400]\tValidation Loss: 912.8359901291168\tTime: 0:00:00.011943\n",
      "Epoch: [27/100]\tSamples: [42039/155700]\tTrain Loss: 898.4649114884393\tTime: 0:00:00.132314\n",
      "Epoch: [27/100]\tSamples: [334/33400]\tValidation Loss: 915.6471568581587\tTime: 0:00:00.013746\n",
      "Epoch: [28/100]\tSamples: [43596/155700]\tTrain Loss: 898.0696150449583\tTime: 0:00:00.122800\n",
      "Epoch: [28/100]\tSamples: [334/33400]\tValidation Loss: 915.9091124391841\tTime: 0:00:00.012443\n",
      "Epoch: [29/100]\tSamples: [45153/155700]\tTrain Loss: 897.2303307642903\tTime: 0:00:00.122522\n",
      "Epoch: [29/100]\tSamples: [334/33400]\tValidation Loss: 913.5198382531811\tTime: 0:00:00.013014\n",
      "Epoch: [30/100]\tSamples: [46710/155700]\tTrain Loss: 895.9546842385196\tTime: 0:00:00.120715\n",
      "Epoch: [30/100]\tSamples: [334/33400]\tValidation Loss: 915.3540243731287\tTime: 0:00:00.012259\n",
      "Epoch: [31/100]\tSamples: [48267/155700]\tTrain Loss: 896.6182587708735\tTime: 0:00:00.126041\n",
      "Epoch: [31/100]\tSamples: [334/33400]\tValidation Loss: 913.783741111527\tTime: 0:00:00.012044\n",
      "Early stopping\n"
     ]
    }
   ],
   "source": [
    "trained_model = model.train_model(dataset)"
   ]
  },
  {
   "cell_type": "code",
   "execution_count": 27,
   "metadata": {},
   "outputs": [
    {
     "name": "stdout",
     "output_type": "stream",
     "text": [
      "dict_keys(['topics', 'topic-document-matrix', 'topic-word-matrix', 'test-topic-document-matrix'])\n"
     ]
    }
   ],
   "source": [
    "print(trained_model.keys())"
   ]
  },
  {
   "cell_type": "code",
   "execution_count": null,
   "metadata": {},
   "outputs": [],
   "source": []
  },
  {
   "cell_type": "code",
   "execution_count": null,
   "metadata": {},
   "outputs": [],
   "source": [
    "import inspect\n",
    "# print(inspect.getsource(NeuralLDA))\n",
    "print(inspect.getsource(ProdLDA))"
   ]
  },
  {
   "cell_type": "code",
   "execution_count": null,
   "metadata": {},
   "outputs": [],
   "source": []
  }
 ],
 "metadata": {
  "kernelspec": {
   "display_name": "Python 3",
   "language": "python",
   "name": "python3"
  },
  "language_info": {
   "codemirror_mode": {
    "name": "ipython",
    "version": 3
   },
   "file_extension": ".py",
   "mimetype": "text/x-python",
   "name": "python",
   "nbconvert_exporter": "python",
   "pygments_lexer": "ipython3",
   "version": "3.8.10 (default, Nov 14 2022, 12:59:47) \n[GCC 9.4.0]"
  },
  "orig_nbformat": 4,
  "vscode": {
   "interpreter": {
    "hash": "916dbcbb3f70747c44a77c7bcd40155683ae19c65e1c03b4aa3499c5328201f1"
   }
  }
 },
 "nbformat": 4,
 "nbformat_minor": 2
}
